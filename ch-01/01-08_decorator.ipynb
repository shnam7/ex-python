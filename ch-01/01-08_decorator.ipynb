{
 "cells": [
  {
   "cell_type": "code",
   "execution_count": 1,
   "metadata": {},
   "outputs": [
    {
     "name": "stdout",
     "output_type": "stream",
     "text": [
      "Deco start\n",
      "\n",
      "Hello\n",
      "\n",
      "Deco end\n",
      "\n"
     ]
    }
   ],
   "source": [
    "def deco(func):\n",
    "    def wrapper():\n",
    "        print(\"Deco start\\n\")\n",
    "        func()\n",
    "        print(\"Deco end\\n\")\n",
    "    return wrapper\n",
    "\n",
    "@deco\n",
    "def func():\n",
    "    print(\"Hello\\n\")\n",
    "\n",
    "func()"
   ]
  }
 ],
 "metadata": {
  "kernelspec": {
   "display_name": ".venv",
   "language": "python",
   "name": "python3"
  },
  "language_info": {
   "codemirror_mode": {
    "name": "ipython",
    "version": 3
   },
   "file_extension": ".py",
   "mimetype": "text/x-python",
   "name": "python",
   "nbconvert_exporter": "python",
   "pygments_lexer": "ipython3",
   "version": "3.10.6"
  },
  "orig_nbformat": 4,
  "vscode": {
   "interpreter": {
    "hash": "e531d61292245f16406ec76e50f26e0f9309190438604d9789e9395cf42947f4"
   }
  }
 },
 "nbformat": 4,
 "nbformat_minor": 2
}
