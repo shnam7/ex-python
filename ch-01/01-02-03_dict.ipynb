{
 "cells": [
  {
   "attachments": {},
   "cell_type": "markdown",
   "metadata": {},
   "source": [
    "# Dictionary"
   ]
  },
  {
   "cell_type": "code",
   "execution_count": 3,
   "metadata": {},
   "outputs": [
    {
     "name": "stdout",
     "output_type": "stream",
     "text": [
      "Person1: Jun 19 Seoul\n",
      "\n",
      "--- Person1:\n",
      "key=name = value=Jun\n",
      "key=age = value=19\n",
      "key=born = value=Seoul\n",
      "key= name\n",
      "key= age\n",
      "key= born\n",
      "val= Jun\n",
      "val= 19\n",
      "val= Seoul\n",
      "\n",
      "--- Person2:\n",
      "{'name': 'Marvin', 'age': 60, 'born': 'US'}\n",
      "Marvin\n"
     ]
    }
   ],
   "source": [
    "# dict\n",
    "person1 = {\n",
    "    \"name\": \"Jun\",\n",
    "    \"age\": 19,\n",
    "    \"born\": \"Seoul\"\n",
    "}\n",
    "\n",
    "print(\"Person1:\", person1[\"name\"], person1[\"age\"], person1[\"born\"])\n",
    "print()\n",
    "\n",
    "print(\"--- Person1:\")\n",
    "for key, val in person1.items():\n",
    "    print(f\"key={key} = value={val}\")\n",
    "\n",
    "for key in person1.keys():\n",
    "    print(\"key=\", key)\n",
    "\n",
    "for val in person1.values():\n",
    "    print(\"val=\", val)\n",
    "\n",
    "\n",
    "person2 = dict(name=\"Marvin\", age=60, born=\"US\")\n",
    "print()\n",
    "print(\"--- Person2:\")\n",
    "print(person2)\n",
    "print(person2[\"name\"])"
   ]
  }
 ],
 "metadata": {
  "kernelspec": {
   "display_name": ".venv",
   "language": "python",
   "name": "python3"
  },
  "language_info": {
   "codemirror_mode": {
    "name": "ipython",
    "version": 3
   },
   "file_extension": ".py",
   "mimetype": "text/x-python",
   "name": "python",
   "nbconvert_exporter": "python",
   "pygments_lexer": "ipython3",
   "version": "3.10.6"
  },
  "orig_nbformat": 4,
  "vscode": {
   "interpreter": {
    "hash": "e531d61292245f16406ec76e50f26e0f9309190438604d9789e9395cf42947f4"
   }
  }
 },
 "nbformat": 4,
 "nbformat_minor": 2
}
