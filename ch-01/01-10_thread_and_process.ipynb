{
 "cells": [
  {
   "cell_type": "code",
   "execution_count": 1,
   "metadata": {},
   "outputs": [
    {
     "name": "stdout",
     "output_type": "stream",
     "text": [
      "Thread 1 is running, count=0\n",
      "Thread 2 is running, count=0\n",
      "Thread 3 is running, count=0\n",
      "Thread 4 is running, count=0\n",
      "Thread 5 is running, count=0\n",
      "Thread 1 is running, count=1\n",
      "Thread 2 is running, count=1\n",
      "Thread 3 is running, count=1\n",
      "Thread 4 is running, count=1\n",
      "Thread 5 is running, count=1\n",
      "Thread 1 is running, count=2\n",
      "Thread 2 is running, count=2\n",
      "Thread 3 is running, count=2\n",
      "Thread 4 is running, count=2\n",
      "Thread 5 is running, count=2\n"
     ]
    },
    {
     "data": {
      "text/plain": [
       "[None, None, None, None, None]"
      ]
     },
     "execution_count": 1,
     "metadata": {},
     "output_type": "execute_result"
    }
   ],
   "source": [
    "import threading\n",
    "import time\n",
    "\n",
    "\n",
    "def foo(id, count):\n",
    "    for i in range(count):\n",
    "        print(f'Thread {id} is running, count={i}')\n",
    "        time.sleep(0.001)\n",
    "\n",
    "\n",
    "THREAD_COUNT = 5\n",
    "PRINT_COUNT = 3\n",
    "threads = [threading.Thread(target=foo, args=(id, PRINT_COUNT))\n",
    "           for id in range(1, THREAD_COUNT+1)]\n",
    "[t.start() for t in threads]\n",
    "[t.join() for t in threads]"
   ]
  },
  {
   "cell_type": "code",
   "execution_count": 2,
   "metadata": {},
   "outputs": [
    {
     "name": "stdout",
     "output_type": "stream",
     "text": [
      "Process 1 is running, count=0\n",
      "Process 1 is running, count=1Process 2 is running, count=0\n",
      "\n",
      "Process 2 is running, count=1Process 1 is running, count=2Process 3 is running, count=0\n",
      "\n",
      "Process 2 is running, count=2\n",
      "\n",
      "Process 3 is running, count=1Process 4 is running, count=0\n",
      "Process 3 is running, count=2\n",
      "\n",
      "Process 4 is running, count=1Process 5 is running, count=0\n",
      "Process 4 is running, count=2\n",
      "\n",
      "Process 5 is running, count=1\n",
      "Process 5 is running, count=2\n"
     ]
    },
    {
     "data": {
      "text/plain": [
       "[None, None, None, None, None]"
      ]
     },
     "execution_count": 2,
     "metadata": {},
     "output_type": "execute_result"
    }
   ],
   "source": [
    "from multiprocessing import Process\n",
    "\n",
    "\n",
    "def foo(id, count):\n",
    "    for i in range(count):\n",
    "        print(f'Process {id} is running, count={i}')\n",
    "\n",
    "\n",
    "PROCESS_COUNT = 10\n",
    "PRINT_COUNT = 3\n",
    "processes = [Process(target=foo, args=(id, PRINT_COUNT))\n",
    "             for id in range(1, THREAD_COUNT+1)]\n",
    "[p.start() for p in processes]\n",
    "[p.join() for p in processes]\n"
   ]
  }
 ],
 "metadata": {
  "kernelspec": {
   "display_name": ".venv",
   "language": "python",
   "name": "python3"
  },
  "language_info": {
   "codemirror_mode": {
    "name": "ipython",
    "version": 3
   },
   "file_extension": ".py",
   "mimetype": "text/x-python",
   "name": "python",
   "nbconvert_exporter": "python",
   "pygments_lexer": "ipython3",
   "version": "3.10.6"
  },
  "orig_nbformat": 4,
  "vscode": {
   "interpreter": {
    "hash": "e531d61292245f16406ec76e50f26e0f9309190438604d9789e9395cf42947f4"
   }
  }
 },
 "nbformat": 4,
 "nbformat_minor": 2
}
