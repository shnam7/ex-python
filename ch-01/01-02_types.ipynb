{
 "cells": [
  {
   "attachments": {},
   "cell_type": "markdown",
   "metadata": {},
   "source": [
    "# String"
   ]
  },
  {
   "cell_type": "code",
   "execution_count": 1,
   "metadata": {},
   "outputs": [
    {
     "name": "stdout",
     "output_type": "stream",
     "text": [
      "String gnirtS tr 61.5\n",
      "[2, 3, 4]\n",
      "[0, 3, 6, 9]\n",
      "[9, 8, 7, 6, 5, 4, 3, 2, 1, 0]\n",
      "True\n",
      "False\n"
     ]
    }
   ],
   "source": [
    "# string and numbers\n",
    "aStr = \"String\"\n",
    "aNum = 123 / 2\n",
    "print(aStr, aStr[::-1], aStr[1:3], aNum)\n",
    "\n",
    "ar = list(range(10))  # 0~9\n",
    "print(ar[2:5])\n",
    "print(ar[::3])\n",
    "print(ar[::-1])\n",
    "print(5 in ar)\n",
    "print(10 in ar)"
   ]
  },
  {
   "attachments": {},
   "cell_type": "markdown",
   "metadata": {},
   "source": [
    "## Character"
   ]
  },
  {
   "cell_type": "code",
   "execution_count": 2,
   "metadata": {},
   "outputs": [
    {
     "name": "stdout",
     "output_type": "stream",
     "text": [
      "  ! \" # $ % & ' ( ) * + , - . / 0 1 2 3 4 5 6 7 8 9 : ; < = > ? @ A B C D E F G H I J K L M N O P Q R S T U V W X Y Z [ \\ ] ^ _ ` a b c d e f g h i j k l m n o p q r s t u v w x y z { | } ~\n"
     ]
    }
   ],
   "source": [
    "# printing characters\n",
    "print(\" \".join(chr(i) for i in list(range(32, 127))))"
   ]
  },
  {
   "attachments": {},
   "cell_type": "markdown",
   "metadata": {},
   "source": [
    "## Formatting"
   ]
  },
  {
   "attachments": {},
   "cell_type": "markdown",
   "metadata": {},
   "source": [
    "## f-string"
   ]
  },
  {
   "cell_type": "code",
   "execution_count": 3,
   "metadata": {},
   "outputs": [
    {
     "name": "stdout",
     "output_type": "stream",
     "text": [
      "Filling, Adjustment, Alignment: $$$10\n",
      "  1 *   1 = 00001\n",
      "  6 *   6 = 00036\n",
      " 11 *  11 = 00121\n",
      " 16 *  16 = 00256\n",
      "\n",
      "Using zfill:\n",
      "  1 * 001 =    001    \n",
      "  6 * 006 =    036    \n",
      " 11 * 011 =    121    \n",
      " 16 * 016 =    256    \n"
     ]
    }
   ],
   "source": [
    "print(f\"Filling, Adjustment, Alignment: {10:$>5}\")\n",
    "for x in range(1, 20, 5):\n",
    "    print(f'{x:>3} * {x:>3} = {x*x:0>5}')\n",
    "\n",
    "print()\n",
    "print(\"Using zfill:\")\n",
    "# text formatting\n",
    "for x in range(1, 20, 5):\n",
    "    print(f'{x:>3} * {x:0>3} = {str(x*x).zfill(3):^10}')\n"
   ]
  },
  {
   "cell_type": "code",
   "execution_count": 4,
   "metadata": {},
   "outputs": [
    {
     "name": "stdout",
     "output_type": "stream",
     "text": [
      "apple is red, melon is green\n"
     ]
    }
   ],
   "source": [
    "item1 = {\"name\": \"apple\", \"color\": \"red\"}\n",
    "item2 = {\"name\": \"melon\", \"color\": \"green\"}\n",
    "print(f'{item1[\"name\"]} is {item1[\"color\"]}, {item2[\"name\"]} is {item2[\"color\"]}')"
   ]
  },
  {
   "cell_type": "code",
   "execution_count": 5,
   "metadata": {},
   "outputs": [
    {
     "name": "stdout",
     "output_type": "stream",
     "text": [
      "Without +/-/=: (   10) and (  -10)\n",
      "With      '=': (   10) and (-  10)\n",
      "With      '+': (  +10) and (  -10)\n",
      "With      '-': (   10) and (  -10)\n"
     ]
    }
   ],
   "source": [
    "# '=' means show sign before spaces\n",
    "# '+' means show signs, '-' means show signs only for the minus numbers\n",
    "val = 10\n",
    "print(f\"Without +/-/=: ({val:>5}) and ({-val:5})\")\n",
    "print(f\"With      '=': ({val:=5}) and ({-val:=5})\")\n",
    "print(f\"With      '+': ({val:+5}) and ({-val:+5})\")\n",
    "print(f\"With      '-': ({val:-5}) and ({-val:-5})\")"
   ]
  },
  {
   "cell_type": "code",
   "execution_count": 6,
   "metadata": {},
   "outputs": [
    {
     "name": "stdout",
     "output_type": "stream",
     "text": [
      "Type conversion with '!': '\\ud558\\ub098abcde' '하나abcde' 12345\n"
     ]
    }
   ],
   "source": [
    "# type conversion: !a equals ascii(), !r equals repr(), !s equals str()\n",
    "s1 = '하나abcde'\n",
    "print(f\"Type conversion with '!': {s1!a} {s1!r} {12345!s}\")"
   ]
  },
  {
   "cell_type": "code",
   "execution_count": 7,
   "metadata": {},
   "outputs": [
    {
     "name": "stdout",
     "output_type": "stream",
     "text": [
      "[0, 1, 2]$$$$$$ ***[0, 1, 2]*** ~~~~~~[0, 1, 2]\n"
     ]
    }
   ],
   "source": [
    "# convert list to string, fill with $,*,~, align left,center,right\n",
    "ar = list(range(3))\n",
    "print(f'{ar!s:$<15} {ar!s:*^15} {ar!s:~>15}')"
   ]
  },
  {
   "cell_type": "code",
   "execution_count": 8,
   "metadata": {},
   "outputs": [
    {
     "name": "stdout",
     "output_type": "stream",
     "text": [
      "decimal:65 binary:1000001 octal:101 hexa:41 ascii:A\n"
     ]
    }
   ],
   "source": [
    "# number notations: number base systems\n",
    "num = 65\n",
    "print(f\"decimal:{num} binary:{num:b} octal:{num:o} hexa:{num:x} ascii:{num:c}\")"
   ]
  },
  {
   "cell_type": "code",
   "execution_count": 9,
   "metadata": {},
   "outputs": [
    {
     "name": "stdout",
     "output_type": "stream",
     "text": [
      "floating:3.1 exponential:3.141590e+00 percentage:314.159%\n"
     ]
    }
   ],
   "source": [
    "# number notations: floatig point numbers\n",
    "num = 3.14159\n",
    "print(f\"floating:{num:.2} exponential:{num:e} percentage:{num:.3%}\")"
   ]
  },
  {
   "cell_type": "code",
   "execution_count": 10,
   "metadata": {},
   "outputs": [
    {
     "name": "stdout",
     "output_type": "stream",
     "text": [
      "apple is red, melon is green\n",
      "apple is red\n",
      "  1 * 001 =    001    \n",
      "  6 * 006 =    036    \n",
      " 11 * 011 =    121    \n",
      " 16 * 016 =    256    \n"
     ]
    }
   ],
   "source": [
    "# Legacy formatting\n",
    "item1 = {\"name\": \"apple\", \"color\": \"red\"}\n",
    "item2 = {\"name\": \"melon\", \"color\": \"green\"}\n",
    "print(\"{0[name]} is {0[color]}, {1[name]} is {1[color]}\".format(item1, item2))\n",
    "print(\"{name} is {color}\".format(**item1))\n",
    "\n",
    "for x in range(1, 20, 5):\n",
    "    print('{} * {} = {}'.format(str(x).rjust(3), str(x).zfill(3), str(x*x).zfill(3).center(10)))"
   ]
  },
  {
   "attachments": {},
   "cell_type": "markdown",
   "metadata": {},
   "source": [
    "# List"
   ]
  },
  {
   "cell_type": "code",
   "execution_count": 11,
   "metadata": {},
   "outputs": [
    {
     "name": "stdout",
     "output_type": "stream",
     "text": [
      "[1, 2, 3, 'hello']\n",
      "['hello', 3, 2, 1]\n",
      "\n",
      "Assign List:\n",
      "id(aList)=140636737023168\n",
      "id(list2)=140636737023168\n",
      "\n",
      "Copy List:\n",
      "id(aList)=140636737023168\n",
      "id(list2)=140636736973696\n"
     ]
    }
   ],
   "source": [
    "# list\n",
    "aList = [1, 2, 3, \"hello\"]\n",
    "aListInversed = aList[::-1]\n",
    "\n",
    "print(aList)\n",
    "print(aListInversed)\n",
    "print()\n",
    "\n",
    "list2 = aList   # aList and list2 are the same object\n",
    "print(\"Assign List:\")\n",
    "print(f\"id(aList)={id(aList)}\")\n",
    "print(f\"id(list2)={id(list2)}\")\n",
    "\n",
    "list2 = aList[:]  # copy all. now aList and list2 are not the same\n",
    "print()\n",
    "print(\"Copy List:\")\n",
    "print(f\"id(aList)={id(aList)}\")\n",
    "print(f\"id(list2)={id(list2)}\")\n"
   ]
  },
  {
   "attachments": {},
   "cell_type": "markdown",
   "metadata": {},
   "source": [
    "## Enumerate"
   ]
  },
  {
   "cell_type": "code",
   "execution_count": 12,
   "metadata": {},
   "outputs": [
    {
     "name": "stdout",
     "output_type": "stream",
     "text": [
      "100 = Apple\n",
      "101 = Mango\n",
      "102 = Pineapple\n"
     ]
    }
   ],
   "source": [
    "# enumerate\n",
    "aList = ['Apple', 'Mango', 'Pineapple']\n",
    "for i, name in enumerate(aList, 100):\n",
    "    print(i, '=', name)"
   ]
  },
  {
   "cell_type": "code",
   "execution_count": null,
   "metadata": {},
   "outputs": [],
   "source": []
  },
  {
   "attachments": {},
   "cell_type": "markdown",
   "metadata": {},
   "source": [
    "# Dictionary"
   ]
  },
  {
   "cell_type": "code",
   "execution_count": 13,
   "metadata": {},
   "outputs": [
    {
     "name": "stdout",
     "output_type": "stream",
     "text": [
      "Person1: Jun 19 Seoul\n",
      "\n",
      "--- Person1:\n",
      "key=name = value=Jun\n",
      "key=age = value=19\n",
      "key=born = value=Seoul\n",
      "key= name\n",
      "key= age\n",
      "key= born\n",
      "val= Jun\n",
      "val= 19\n",
      "val= Seoul\n",
      "\n",
      "--- Person2:\n",
      "{'name': 'Marvin', 'age': 60, 'born': 'US'}\n",
      "Marvin\n"
     ]
    }
   ],
   "source": [
    "# dict\n",
    "person1 = {\n",
    "    \"name\": \"Jun\",\n",
    "    \"age\": 19,\n",
    "    \"born\": \"Seoul\"\n",
    "}\n",
    "\n",
    "print(\"Person1:\", person1[\"name\"], person1[\"age\"], person1[\"born\"])\n",
    "print()\n",
    "\n",
    "print(\"--- Person1:\")\n",
    "for key, val in person1.items():\n",
    "    print(f\"key={key} = value={val}\")\n",
    "\n",
    "for key in person1.keys():\n",
    "    print(\"key=\", key)\n",
    "\n",
    "for val in person1.values():\n",
    "    print(\"val=\", val)\n",
    "\n",
    "\n",
    "person2 = dict(name=\"Marvin\", age=60, born=\"US\")\n",
    "print()\n",
    "print(\"--- Person2:\")\n",
    "print(person2)\n",
    "print(person2[\"name\"])"
   ]
  },
  {
   "cell_type": "code",
   "execution_count": 14,
   "metadata": {},
   "outputs": [
    {
     "ename": "SyntaxError",
     "evalue": "unterminated string literal (detected at line 8) (3183961399.py, line 8)",
     "output_type": "error",
     "traceback": [
      "\u001b[0;36m  Cell \u001b[0;32mIn[14], line 8\u001b[0;36m\u001b[0m\n\u001b[0;31m    print(person1[\"name])\u001b[0m\n\u001b[0m                  ^\u001b[0m\n\u001b[0;31mSyntaxError\u001b[0m\u001b[0;31m:\u001b[0m unterminated string literal (detected at line 8)\n"
     ]
    }
   ],
   "source": [
    "# dict\n",
    "person1 = {\n",
    "    \"name\": \"Jun\",\n",
    "    \"age\": 19,\n",
    "    \"born\": \"Seoul\"\n",
    "}\n",
    "\n",
    "print(person1[\"name])\n",
    "print(person1[\"age])\n",
    "\n",
    "print(\"--- Person1:\")\n",
    "for key, val in person1.items():\n",
    "    print(f\"key={key} = value={val}\")\n",
    "\n",
    "for key in person1.keys():\n",
    "    print(\"key=\", key)\n",
    "\n",
    "for val in person1.values():\n",
    "    print(\"val=\", val)\n",
    "\n",
    "\n",
    "person2 = dict(name=\"Marvin\", age=60, born=\"US\")\n",
    "print()\n",
    "print(\"--- Person2:\")\n",
    "print(person2)\n",
    "print(person2[\"name\"])"
   ]
  },
  {
   "attachments": {},
   "cell_type": "markdown",
   "metadata": {},
   "source": [
    "# Examples"
   ]
  },
  {
   "cell_type": "code",
   "execution_count": null,
   "metadata": {},
   "outputs": [],
   "source": [
    "# List comprehension\n",
    "list1 = list(range(10, 20))\n",
    "list2 = [i**2 for i in list1 if 15 <= i <= 17]\n",
    "list3 = [x*y for x in list1 if x < 13 for y in list2]\n",
    "print(f\"list1={list1}\")\n",
    "print(f\"list2={list2}\")\n",
    "print(f\"list3={list3}\")\n",
    "\n",
    "# filter\n",
    "list4 = list(filter(lambda x: x > 3000, list3))\n",
    "print(f\"filtered list:{list4}\")\n",
    "\n",
    "# map\n",
    "list4 = list(map(lambda x, y: x+y, list2, list3))\n",
    "print(f\"map to list:{list4}\")\n",
    "\n",
    "# zip: returns combined tuples\n",
    "list5 = list(zip(list1, list2, list3))\n",
    "print(f\"zipped list:{list5}\")\n",
    "\n",
    "# print using jping\n",
    "print(\"Join with new line:\")\n",
    "print('\\n'.join(map(lambda x: str(x), list5[0])))\n"
   ]
  }
 ],
 "metadata": {
  "kernelspec": {
   "display_name": ".venv",
   "language": "python",
   "name": "python3"
  },
  "language_info": {
   "codemirror_mode": {
    "name": "ipython",
    "version": 3
   },
   "file_extension": ".py",
   "mimetype": "text/x-python",
   "name": "python",
   "nbconvert_exporter": "python",
   "pygments_lexer": "ipython3",
   "version": "3.10.6"
  },
  "orig_nbformat": 4,
  "vscode": {
   "interpreter": {
    "hash": "e531d61292245f16406ec76e50f26e0f9309190438604d9789e9395cf42947f4"
   }
  }
 },
 "nbformat": 4,
 "nbformat_minor": 2
}
