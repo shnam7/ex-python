{
 "cells": [
  {
   "attachments": {},
   "cell_type": "markdown",
   "metadata": {},
   "source": [
    "# List"
   ]
  },
  {
   "cell_type": "code",
   "execution_count": 1,
   "metadata": {},
   "outputs": [
    {
     "name": "stdout",
     "output_type": "stream",
     "text": [
      "[1, 2, 3, 'hello']\n",
      "['hello', 3, 2, 1]\n",
      "\n",
      "Assign List:\n",
      "id(aList)=140287463560512\n",
      "id(list2)=140287463560512\n",
      "\n",
      "Copy List:\n",
      "id(aList)=140287463560512\n",
      "id(list2)=140287463559744\n"
     ]
    }
   ],
   "source": [
    "# list\n",
    "aList = [1, 2, 3, \"hello\"]\n",
    "aListInversed = aList[::-1]\n",
    "\n",
    "print(aList)\n",
    "print(aListInversed)\n",
    "print()\n",
    "\n",
    "list2 = aList   # aList and list2 are the same object\n",
    "print(\"Assign List:\")\n",
    "print(f\"id(aList)={id(aList)}\")\n",
    "print(f\"id(list2)={id(list2)}\")\n",
    "\n",
    "list2 = aList[:]  # copy all. now aList and list2 are not the same\n",
    "print()\n",
    "print(\"Copy List:\")\n",
    "print(f\"id(aList)={id(aList)}\")\n",
    "print(f\"id(list2)={id(list2)}\")\n"
   ]
  },
  {
   "attachments": {},
   "cell_type": "markdown",
   "metadata": {},
   "source": [
    "### Enumerate"
   ]
  },
  {
   "cell_type": "code",
   "execution_count": 2,
   "metadata": {},
   "outputs": [
    {
     "name": "stdout",
     "output_type": "stream",
     "text": [
      "100 = Apple\n",
      "101 = Mango\n",
      "102 = Pineapple\n"
     ]
    }
   ],
   "source": [
    "# enumerate\n",
    "aList = ['Apple', 'Mango', 'Pineapple']\n",
    "for i, name in enumerate(aList, 100):\n",
    "    print(i, '=', name)"
   ]
  },
  {
   "cell_type": "code",
   "execution_count": null,
   "metadata": {},
   "outputs": [],
   "source": []
  },
  {
   "attachments": {},
   "cell_type": "markdown",
   "metadata": {},
   "source": [
    "### Examples"
   ]
  },
  {
   "cell_type": "code",
   "execution_count": 3,
   "metadata": {},
   "outputs": [
    {
     "name": "stdout",
     "output_type": "stream",
     "text": [
      "list1=[10, 11, 12, 13, 14, 15, 16, 17, 18, 19]\n",
      "list2=[225, 256, 289]\n",
      "list3=[2250, 2560, 2890, 2475, 2816, 3179, 2700, 3072, 3468]\n",
      "filtered list:[3179, 3072, 3468]\n",
      "map to list:[2475, 2816, 3179]\n",
      "zipped list:[(10, 225, 2250), (11, 256, 2560), (12, 289, 2890)]\n",
      "Join with new line:\n",
      "10\n",
      "225\n",
      "2250\n"
     ]
    }
   ],
   "source": [
    "# List comprehension\n",
    "list1 = list(range(10, 20))\n",
    "list2 = [i**2 for i in list1 if 15 <= i <= 17]\n",
    "list3 = [x*y for x in list1 if x < 13 for y in list2]\n",
    "print(f\"list1={list1}\")\n",
    "print(f\"list2={list2}\")\n",
    "print(f\"list3={list3}\")\n",
    "\n",
    "# filter\n",
    "list4 = list(filter(lambda x: x > 3000, list3))\n",
    "print(f\"filtered list:{list4}\")\n",
    "\n",
    "# map\n",
    "list4 = list(map(lambda x, y: x+y, list2, list3))\n",
    "print(f\"map to list:{list4}\")\n",
    "\n",
    "# zip: returns combined tuples\n",
    "list5 = list(zip(list1, list2, list3))\n",
    "print(f\"zipped list:{list5}\")\n",
    "\n",
    "# print using jping\n",
    "print(\"Join with new line:\")\n",
    "print('\\n'.join(map(lambda x: str(x), list5[0])))\n"
   ]
  }
 ],
 "metadata": {
  "kernelspec": {
   "display_name": ".venv",
   "language": "python",
   "name": "python3"
  },
  "language_info": {
   "codemirror_mode": {
    "name": "ipython",
    "version": 3
   },
   "file_extension": ".py",
   "mimetype": "text/x-python",
   "name": "python",
   "nbconvert_exporter": "python",
   "pygments_lexer": "ipython3",
   "version": "3.10.6"
  },
  "orig_nbformat": 4,
  "vscode": {
   "interpreter": {
    "hash": "e531d61292245f16406ec76e50f26e0f9309190438604d9789e9395cf42947f4"
   }
  }
 },
 "nbformat": 4,
 "nbformat_minor": 2
}
