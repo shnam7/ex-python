{
 "cells": [
  {
   "attachments": {},
   "cell_type": "markdown",
   "metadata": {},
   "source": [
    "# Hello"
   ]
  },
  {
   "cell_type": "code",
   "execution_count": 1,
   "metadata": {},
   "outputs": [
    {
     "name": "stdout",
     "output_type": "stream",
     "text": [
      "Hi, there!\n",
      "Hi, My name is Tom, and ID is 12345\n"
     ]
    }
   ],
   "source": [
    "print(\"Hi, there!\")\n",
    "\n",
    "name = 'Tom'\n",
    "id = 12345\n",
    "print(\"Hi, My name is {}, and ID is {}\".format(name, id))"
   ]
  },
  {
   "cell_type": "markdown",
   "metadata": {},
   "source": []
  },
  {
   "attachments": {},
   "cell_type": "markdown",
   "metadata": {},
   "source": [
    "# f-string"
   ]
  },
  {
   "cell_type": "code",
   "execution_count": 2,
   "metadata": {},
   "outputs": [
    {
     "name": "stdout",
     "output_type": "stream",
     "text": [
      "val is |123       |\n",
      "val is |       123|\n",
      "val is |   123    |\n",
      "val is {   123    }\n"
     ]
    }
   ],
   "source": [
    "val = 123\n",
    "print(f\"val is |{val:<10}|\")    # left adjustment\n",
    "print(f\"val is |{val:>10}|\")    # right adjustment\n",
    "print(f\"val is |{val:^10}|\")    # center adjustment\n",
    "print(f\"val is {{{val:^10}}}\")    # print brace character {{ }}"
   ]
  },
  {
   "attachments": {},
   "cell_type": "markdown",
   "metadata": {},
   "source": [
    "# Input"
   ]
  },
  {
   "cell_type": "code",
   "execution_count": 3,
   "metadata": {},
   "outputs": [
    {
     "name": "stdout",
     "output_type": "stream",
     "text": [
      "You entered ['Hello,', 'World!']\n"
     ]
    }
   ],
   "source": [
    "inStr = input(\"Please enter anything: \").split()\n",
    "print('You entered {}'.format(inStr))\n"
   ]
  }
 ],
 "metadata": {
  "kernelspec": {
   "display_name": ".venv",
   "language": "python",
   "name": "python3"
  },
  "language_info": {
   "codemirror_mode": {
    "name": "ipython",
    "version": 3
   },
   "file_extension": ".py",
   "mimetype": "text/x-python",
   "name": "python",
   "nbconvert_exporter": "python",
   "pygments_lexer": "ipython3",
   "version": "3.10.6"
  },
  "orig_nbformat": 4,
  "vscode": {
   "interpreter": {
    "hash": "e531d61292245f16406ec76e50f26e0f9309190438604d9789e9395cf42947f4"
   }
  }
 },
 "nbformat": 4,
 "nbformat_minor": 2
}
