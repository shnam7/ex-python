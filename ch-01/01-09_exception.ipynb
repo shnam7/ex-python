{
 "cells": [
  {
   "attachments": {},
   "cell_type": "markdown",
   "metadata": {},
   "source": [
    "# Exception"
   ]
  },
  {
   "cell_type": "code",
   "execution_count": 16,
   "metadata": {},
   "outputs": [
    {
     "name": "stdout",
     "output_type": "stream",
     "text": [
      "Function took 0.000954 milli seconds\n"
     ]
    },
    {
     "ename": "ZeroDivisionError",
     "evalue": "division by zero",
     "output_type": "error",
     "traceback": [
      "\u001b[0;31m---------------------------------------------------------------------------\u001b[0m",
      "\u001b[0;31mZeroDivisionError\u001b[0m                         Traceback (most recent call last)",
      "Cell \u001b[0;32mIn[16], line 16\u001b[0m\n\u001b[1;32m     12\u001b[0m     \u001b[39mfinally\u001b[39;00m:\n\u001b[1;32m     13\u001b[0m         \u001b[39mprint\u001b[39m(\u001b[39mf\u001b[39m\u001b[39m'\u001b[39m\u001b[39mFunction took \u001b[39m\u001b[39m{\u001b[39;00m(time\u001b[39m.\u001b[39mtime() \u001b[39m-\u001b[39m start)\u001b[39m*\u001b[39m\u001b[39m1000\u001b[39m\u001b[39m:\u001b[39;00m\u001b[39m.3\u001b[39m\u001b[39m}\u001b[39;00m\u001b[39m milli seconds\u001b[39m\u001b[39m'\u001b[39m)\n\u001b[0;32m---> 16\u001b[0m cause_error()\n",
      "Cell \u001b[0;32mIn[16], line 10\u001b[0m, in \u001b[0;36mcause_error\u001b[0;34m()\u001b[0m\n\u001b[1;32m      7\u001b[0m     \u001b[39m1\u001b[39m\u001b[39m/\u001b[39m\u001b[39m0\u001b[39m\n\u001b[1;32m      8\u001b[0m \u001b[39mexcept\u001b[39;00m \u001b[39mException\u001b[39;00m \u001b[39mas\u001b[39;00m e:\n\u001b[1;32m      9\u001b[0m     \u001b[39m# print(\"Error capture: \", e.__class__, e)\u001b[39;00m\n\u001b[0;32m---> 10\u001b[0m     \u001b[39mraise\u001b[39;00m e\n\u001b[1;32m     11\u001b[0m     \u001b[39mpass\u001b[39;00m\n\u001b[1;32m     12\u001b[0m \u001b[39mfinally\u001b[39;00m:\n",
      "Cell \u001b[0;32mIn[16], line 7\u001b[0m, in \u001b[0;36mcause_error\u001b[0;34m()\u001b[0m\n\u001b[1;32m      5\u001b[0m start \u001b[39m=\u001b[39m time\u001b[39m.\u001b[39mtime()\n\u001b[1;32m      6\u001b[0m \u001b[39mtry\u001b[39;00m:\n\u001b[0;32m----> 7\u001b[0m     \u001b[39m1\u001b[39;49m\u001b[39m/\u001b[39;49m\u001b[39m0\u001b[39;49m\n\u001b[1;32m      8\u001b[0m \u001b[39mexcept\u001b[39;00m \u001b[39mException\u001b[39;00m \u001b[39mas\u001b[39;00m e:\n\u001b[1;32m      9\u001b[0m     \u001b[39m# print(\"Error capture: \", e.__class__, e)\u001b[39;00m\n\u001b[1;32m     10\u001b[0m     \u001b[39mraise\u001b[39;00m e\n",
      "\u001b[0;31mZeroDivisionError\u001b[0m: division by zero"
     ]
    }
   ],
   "source": [
    "import time\n",
    "\n",
    "\n",
    "def cause_error():\n",
    "    start = time.time()\n",
    "    try:\n",
    "        1/0\n",
    "    except Exception as e:\n",
    "        # print(\"Error capture: \", e.__class__, e)\n",
    "        # raise e\n",
    "        pass\n",
    "    finally:\n",
    "        print(f'Function took {(time.time() - start)*1000:.3} milli seconds')\n",
    "\n",
    "\n",
    "cause_error()"
   ]
  },
  {
   "attachments": {},
   "cell_type": "markdown",
   "metadata": {},
   "source": [
    "## Exception handling using decorator"
   ]
  },
  {
   "cell_type": "code",
   "execution_count": 12,
   "metadata": {},
   "outputs": [
    {
     "name": "stdout",
     "output_type": "stream",
     "text": [
      "Zero division error occurred\n",
      "1\n",
      "Some error occurred\n"
     ]
    }
   ],
   "source": [
    "def handle_exception(func):\n",
    "    def wrapper(*args, **kwargs):\n",
    "        try:\n",
    "            func(*args, **kwargs)\n",
    "        except TypeError:\n",
    "            print('Type error occurred')\n",
    "        except ZeroDivisionError:\n",
    "            print('Zero division error occurred')\n",
    "        except Exception:\n",
    "            print('Some error occurred')\n",
    "    return wrapper\n",
    "\n",
    "\n",
    "@handle_exception\n",
    "def cause_division_error():\n",
    "    1/0\n",
    "\n",
    "\n",
    "@handle_exception\n",
    "def raise_error(n):\n",
    "    if n == 0:\n",
    "        raise Exception()\n",
    "    print(n)\n",
    "\n",
    "\n",
    "cause_division_error()\n",
    "raise_error(1)\n",
    "raise_error(0)\n"
   ]
  },
  {
   "attachments": {},
   "cell_type": "markdown",
   "metadata": {},
   "source": [
    "### Custom error"
   ]
  },
  {
   "cell_type": "code",
   "execution_count": 13,
   "metadata": {},
   "outputs": [
    {
     "ename": "CustomException",
     "evalue": "",
     "output_type": "error",
     "traceback": [
      "\u001b[0;31m---------------------------------------------------------------------------\u001b[0m",
      "\u001b[0;31mCustomException\u001b[0m                           Traceback (most recent call last)",
      "Cell \u001b[0;32mIn[13], line 9\u001b[0m\n\u001b[1;32m      5\u001b[0m \u001b[39mdef\u001b[39;00m \u001b[39mcause_custom_error\u001b[39m():\n\u001b[1;32m      6\u001b[0m     \u001b[39mraise\u001b[39;00m CustomException()\n\u001b[0;32m----> 9\u001b[0m cause_custom_error()\n",
      "Cell \u001b[0;32mIn[13], line 6\u001b[0m, in \u001b[0;36mcause_custom_error\u001b[0;34m()\u001b[0m\n\u001b[1;32m      5\u001b[0m \u001b[39mdef\u001b[39;00m \u001b[39mcause_custom_error\u001b[39m():\n\u001b[0;32m----> 6\u001b[0m     \u001b[39mraise\u001b[39;00m CustomException()\n",
      "\u001b[0;31mCustomException\u001b[0m: "
     ]
    }
   ],
   "source": [
    "class CustomException(Exception):\n",
    "    pass\n",
    "\n",
    "\n",
    "def cause_custom_error():\n",
    "    raise CustomException()\n",
    "\n",
    "\n",
    "cause_custom_error()"
   ]
  },
  {
   "cell_type": "code",
   "execution_count": 14,
   "metadata": {},
   "outputs": [
    {
     "ename": "ServerError",
     "evalue": "Status code:500, message=Server error",
     "output_type": "error",
     "traceback": [
      "\u001b[0;31m---------------------------------------------------------------------------\u001b[0m",
      "\u001b[0;31mServerError\u001b[0m                               Traceback (most recent call last)",
      "Cell \u001b[0;32mIn[14], line 24\u001b[0m\n\u001b[1;32m     20\u001b[0m \u001b[39mdef\u001b[39;00m \u001b[39mraise_server_error\u001b[39m():\n\u001b[1;32m     21\u001b[0m     \u001b[39mraise\u001b[39;00m ServerError()\n\u001b[0;32m---> 24\u001b[0m raise_server_error()\n",
      "Cell \u001b[0;32mIn[14], line 21\u001b[0m, in \u001b[0;36mraise_server_error\u001b[0;34m()\u001b[0m\n\u001b[1;32m     20\u001b[0m \u001b[39mdef\u001b[39;00m \u001b[39mraise_server_error\u001b[39m():\n\u001b[0;32m---> 21\u001b[0m     \u001b[39mraise\u001b[39;00m ServerError()\n",
      "\u001b[0;31mServerError\u001b[0m: Status code:500, message=Server error"
     ]
    }
   ],
   "source": [
    "class HttpException(Exception):\n",
    "    status_code = None\n",
    "    message = None\n",
    "\n",
    "    def __init__(self,) -> None:\n",
    "        super().__init__(\n",
    "            f'Status code:{self.status_code}, message={self.message}')\n",
    "\n",
    "\n",
    "class NotFound(HttpException):\n",
    "    status_code = 404\n",
    "    message = 'Resource not found'\n",
    "\n",
    "\n",
    "class ServerError(HttpException):\n",
    "    status_code = 500\n",
    "    message = 'Server error'\n",
    "\n",
    "\n",
    "def raise_server_error():\n",
    "    raise ServerError()\n",
    "\n",
    "\n",
    "raise_server_error()\n"
   ]
  }
 ],
 "metadata": {
  "kernelspec": {
   "display_name": ".venv",
   "language": "python",
   "name": "python3"
  },
  "language_info": {
   "codemirror_mode": {
    "name": "ipython",
    "version": 3
   },
   "file_extension": ".py",
   "mimetype": "text/x-python",
   "name": "python",
   "nbconvert_exporter": "python",
   "pygments_lexer": "ipython3",
   "version": "3.10.6"
  },
  "orig_nbformat": 4,
  "vscode": {
   "interpreter": {
    "hash": "e531d61292245f16406ec76e50f26e0f9309190438604d9789e9395cf42947f4"
   }
  }
 },
 "nbformat": 4,
 "nbformat_minor": 2
}
